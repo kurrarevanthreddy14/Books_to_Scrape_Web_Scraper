{
 "cells": [
  {
   "cell_type": "code",
   "execution_count": 13,
   "id": "03446d7f-3ee0-4c7d-b1de-3a6b2a65d4c5",
   "metadata": {},
   "outputs": [],
   "source": [
    "import requests\n",
    "from bs4 import BeautifulSoup\n",
    "import pandas as pd\n",
    "import time"
   ]
  },
  {
   "cell_type": "code",
   "execution_count": 23,
   "id": "49e624e9-3ba3-4db0-9dd5-70cf36945243",
   "metadata": {},
   "outputs": [],
   "source": [
    "base_url = 'http://books.toscrape.com/catalogue/'\n",
    "current_page_url = 'page-1.html'\n",
    "\n",
    "all_titles = []\n",
    "all_prices = []\n",
    "all_ratings = []\n",
    "\n",
    "page_limit = 50  \n",
    "page_count = 0\n"
   ]
  },
  {
   "cell_type": "code",
   "execution_count": 25,
   "id": "62764a52-fb96-468a-8113-85a895305812",
   "metadata": {},
   "outputs": [
    {
     "name": "stdout",
     "output_type": "stream",
     "text": [
      "Scraping: http://books.toscrape.com/catalogue/page-1.html\n",
      "Scraping: http://books.toscrape.com/catalogue/page-2.html\n",
      "Scraping: http://books.toscrape.com/catalogue/page-3.html\n",
      "Scraping: http://books.toscrape.com/catalogue/page-4.html\n",
      "Scraping: http://books.toscrape.com/catalogue/page-5.html\n",
      "Scraping: http://books.toscrape.com/catalogue/page-6.html\n",
      "Scraping: http://books.toscrape.com/catalogue/page-7.html\n",
      "Scraping: http://books.toscrape.com/catalogue/page-8.html\n",
      "Scraping: http://books.toscrape.com/catalogue/page-9.html\n",
      "Scraping: http://books.toscrape.com/catalogue/page-10.html\n",
      "Scraping: http://books.toscrape.com/catalogue/page-11.html\n",
      "Scraping: http://books.toscrape.com/catalogue/page-12.html\n",
      "Scraping: http://books.toscrape.com/catalogue/page-13.html\n",
      "Scraping: http://books.toscrape.com/catalogue/page-14.html\n",
      "Scraping: http://books.toscrape.com/catalogue/page-15.html\n",
      "Scraping: http://books.toscrape.com/catalogue/page-16.html\n",
      "Scraping: http://books.toscrape.com/catalogue/page-17.html\n",
      "Scraping: http://books.toscrape.com/catalogue/page-18.html\n",
      "Scraping: http://books.toscrape.com/catalogue/page-19.html\n",
      "Scraping: http://books.toscrape.com/catalogue/page-20.html\n",
      "Scraping: http://books.toscrape.com/catalogue/page-21.html\n",
      "Scraping: http://books.toscrape.com/catalogue/page-22.html\n",
      "Scraping: http://books.toscrape.com/catalogue/page-23.html\n",
      "Scraping: http://books.toscrape.com/catalogue/page-24.html\n",
      "Scraping: http://books.toscrape.com/catalogue/page-25.html\n",
      "Scraping: http://books.toscrape.com/catalogue/page-26.html\n",
      "Scraping: http://books.toscrape.com/catalogue/page-27.html\n",
      "Scraping: http://books.toscrape.com/catalogue/page-28.html\n",
      "Scraping: http://books.toscrape.com/catalogue/page-29.html\n",
      "Scraping: http://books.toscrape.com/catalogue/page-30.html\n",
      "Scraping: http://books.toscrape.com/catalogue/page-31.html\n",
      "Scraping: http://books.toscrape.com/catalogue/page-32.html\n",
      "Scraping: http://books.toscrape.com/catalogue/page-33.html\n",
      "Scraping: http://books.toscrape.com/catalogue/page-34.html\n",
      "Scraping: http://books.toscrape.com/catalogue/page-35.html\n",
      "Scraping: http://books.toscrape.com/catalogue/page-36.html\n",
      "Scraping: http://books.toscrape.com/catalogue/page-37.html\n",
      "Scraping: http://books.toscrape.com/catalogue/page-38.html\n",
      "Scraping: http://books.toscrape.com/catalogue/page-39.html\n",
      "Scraping: http://books.toscrape.com/catalogue/page-40.html\n",
      "Scraping: http://books.toscrape.com/catalogue/page-41.html\n",
      "Scraping: http://books.toscrape.com/catalogue/page-42.html\n",
      "Scraping: http://books.toscrape.com/catalogue/page-43.html\n",
      "Scraping: http://books.toscrape.com/catalogue/page-44.html\n",
      "Scraping: http://books.toscrape.com/catalogue/page-45.html\n",
      "Scraping: http://books.toscrape.com/catalogue/page-46.html\n",
      "Scraping: http://books.toscrape.com/catalogue/page-47.html\n",
      "Scraping: http://books.toscrape.com/catalogue/page-48.html\n",
      "Scraping: http://books.toscrape.com/catalogue/page-49.html\n",
      "Scraping: http://books.toscrape.com/catalogue/page-50.html\n"
     ]
    }
   ],
   "source": [
    "while current_page_url and page_count < page_limit:\n",
    "    full_url = base_url + current_page_url\n",
    "    print(\"Scraping:\", full_url)\n",
    "\n",
    "    response = requests.get(full_url)\n",
    "    soup = BeautifulSoup(response.content, 'html.parser')\n",
    "\n",
    "    book_containers = soup.find_all('article', class_='product_pod')\n",
    "\n",
    "    for book in book_containers:\n",
    "        title = book.find('h3').find('a')['title']\n",
    "        price = book.find('p', class_='price_color').text\n",
    "        rating = book.find('p', class_='star-rating')['class'][1]\n",
    "\n",
    "        all_titles.append(title)\n",
    "        all_prices.append(price)\n",
    "        all_ratings.append(rating)\n",
    "\n",
    "    next_button = soup.find('li', class_='next')\n",
    "    if next_button:\n",
    "        current_page_url = next_button.find('a')['href']\n",
    "    else:\n",
    "        current_page_url = None\n",
    "\n",
    "    page_count += 1\n"
   ]
  },
  {
   "cell_type": "code",
   "execution_count": 27,
   "id": "ae9c469d-aac0-4b57-8575-e315b214dd78",
   "metadata": {},
   "outputs": [
    {
     "data": {
      "text/html": [
       "<div>\n",
       "<style scoped>\n",
       "    .dataframe tbody tr th:only-of-type {\n",
       "        vertical-align: middle;\n",
       "    }\n",
       "\n",
       "    .dataframe tbody tr th {\n",
       "        vertical-align: top;\n",
       "    }\n",
       "\n",
       "    .dataframe thead th {\n",
       "        text-align: right;\n",
       "    }\n",
       "</style>\n",
       "<table border=\"1\" class=\"dataframe\">\n",
       "  <thead>\n",
       "    <tr style=\"text-align: right;\">\n",
       "      <th></th>\n",
       "      <th>Title</th>\n",
       "      <th>Price</th>\n",
       "      <th>Star_Rating</th>\n",
       "    </tr>\n",
       "  </thead>\n",
       "  <tbody>\n",
       "    <tr>\n",
       "      <th>0</th>\n",
       "      <td>A Light in the Attic</td>\n",
       "      <td>£51.77</td>\n",
       "      <td>Three</td>\n",
       "    </tr>\n",
       "    <tr>\n",
       "      <th>1</th>\n",
       "      <td>Tipping the Velvet</td>\n",
       "      <td>£53.74</td>\n",
       "      <td>One</td>\n",
       "    </tr>\n",
       "    <tr>\n",
       "      <th>2</th>\n",
       "      <td>Soumission</td>\n",
       "      <td>£50.10</td>\n",
       "      <td>One</td>\n",
       "    </tr>\n",
       "    <tr>\n",
       "      <th>3</th>\n",
       "      <td>Sharp Objects</td>\n",
       "      <td>£47.82</td>\n",
       "      <td>Four</td>\n",
       "    </tr>\n",
       "    <tr>\n",
       "      <th>4</th>\n",
       "      <td>Sapiens: A Brief History of Humankind</td>\n",
       "      <td>£54.23</td>\n",
       "      <td>Five</td>\n",
       "    </tr>\n",
       "  </tbody>\n",
       "</table>\n",
       "</div>"
      ],
      "text/plain": [
       "                                   Title   Price Star_Rating\n",
       "0                   A Light in the Attic  £51.77       Three\n",
       "1                     Tipping the Velvet  £53.74         One\n",
       "2                             Soumission  £50.10         One\n",
       "3                          Sharp Objects  £47.82        Four\n",
       "4  Sapiens: A Brief History of Humankind  £54.23        Five"
      ]
     },
     "execution_count": 27,
     "metadata": {},
     "output_type": "execute_result"
    }
   ],
   "source": [
    "book_data = pd.DataFrame({\n",
    "    'Title': all_titles,\n",
    "    'Price': all_prices,\n",
    "    'Star_Rating': all_ratings\n",
    "})\n",
    "book_data.head()\n"
   ]
  },
  {
   "cell_type": "code",
   "execution_count": 29,
   "id": "da996b1f-b64f-48a0-81d1-e678d89e6ff0",
   "metadata": {},
   "outputs": [],
   "source": [
    "book_data['Price'] = book_data['Price'].str.replace('£', '').astype(float)"
   ]
  },
  {
   "cell_type": "code",
   "execution_count": 31,
   "id": "4eb50c83-79bf-4131-806c-7a2a67b5b3d8",
   "metadata": {},
   "outputs": [],
   "source": [
    "rating_map = {'One': 1, 'Two': 2, 'Three': 3, 'Four': 4, 'Five': 5}\n",
    "book_data['Star_Rating'] = book_data['Star_Rating'].map(rating_map)"
   ]
  },
  {
   "cell_type": "code",
   "execution_count": 33,
   "id": "0235937d-6f36-48c1-9352-e61a92003afc",
   "metadata": {},
   "outputs": [
    {
     "data": {
      "text/html": [
       "<div>\n",
       "<style scoped>\n",
       "    .dataframe tbody tr th:only-of-type {\n",
       "        vertical-align: middle;\n",
       "    }\n",
       "\n",
       "    .dataframe tbody tr th {\n",
       "        vertical-align: top;\n",
       "    }\n",
       "\n",
       "    .dataframe thead th {\n",
       "        text-align: right;\n",
       "    }\n",
       "</style>\n",
       "<table border=\"1\" class=\"dataframe\">\n",
       "  <thead>\n",
       "    <tr style=\"text-align: right;\">\n",
       "      <th></th>\n",
       "      <th>Title</th>\n",
       "      <th>Price</th>\n",
       "      <th>Star_Rating</th>\n",
       "    </tr>\n",
       "  </thead>\n",
       "  <tbody>\n",
       "    <tr>\n",
       "      <th>0</th>\n",
       "      <td>A Light in the Attic</td>\n",
       "      <td>51.77</td>\n",
       "      <td>3</td>\n",
       "    </tr>\n",
       "    <tr>\n",
       "      <th>1</th>\n",
       "      <td>Tipping the Velvet</td>\n",
       "      <td>53.74</td>\n",
       "      <td>1</td>\n",
       "    </tr>\n",
       "    <tr>\n",
       "      <th>2</th>\n",
       "      <td>Soumission</td>\n",
       "      <td>50.10</td>\n",
       "      <td>1</td>\n",
       "    </tr>\n",
       "    <tr>\n",
       "      <th>3</th>\n",
       "      <td>Sharp Objects</td>\n",
       "      <td>47.82</td>\n",
       "      <td>4</td>\n",
       "    </tr>\n",
       "    <tr>\n",
       "      <th>4</th>\n",
       "      <td>Sapiens: A Brief History of Humankind</td>\n",
       "      <td>54.23</td>\n",
       "      <td>5</td>\n",
       "    </tr>\n",
       "  </tbody>\n",
       "</table>\n",
       "</div>"
      ],
      "text/plain": [
       "                                   Title  Price  Star_Rating\n",
       "0                   A Light in the Attic  51.77            3\n",
       "1                     Tipping the Velvet  53.74            1\n",
       "2                             Soumission  50.10            1\n",
       "3                          Sharp Objects  47.82            4\n",
       "4  Sapiens: A Brief History of Humankind  54.23            5"
      ]
     },
     "execution_count": 33,
     "metadata": {},
     "output_type": "execute_result"
    }
   ],
   "source": [
    "book_data.head()"
   ]
  },
  {
   "cell_type": "code",
   "execution_count": 35,
   "id": "c800e404-56bc-49e4-bc13-db0dacf7ccc5",
   "metadata": {},
   "outputs": [],
   "source": [
    "book_data.to_csv('cleaned_books.csv', index=False)\n"
   ]
  },
  {
   "cell_type": "code",
   "execution_count": 39,
   "id": "2c90c6e3-2088-42c7-a52f-9ca7ecb077fd",
   "metadata": {},
   "outputs": [
    {
     "data": {
      "text/plain": [
       "'/Users/revanthreddy/Desktop/cleaned_books.csv'"
      ]
     },
     "execution_count": 39,
     "metadata": {},
     "output_type": "execute_result"
    }
   ],
   "source": [
    "import shutil\n",
    "\n",
    "shutil.move('/Users/revanthreddy/cleaned_books.csv', '/Users/revanthreddy/Desktop/cleaned_books.csv')\n"
   ]
  },
  {
   "cell_type": "code",
   "execution_count": null,
   "id": "363dd7ae-b1ca-44ef-be7b-91725ba2abfb",
   "metadata": {},
   "outputs": [],
   "source": []
  }
 ],
 "metadata": {
  "kernelspec": {
   "display_name": "Python [conda env:base] *",
   "language": "python",
   "name": "conda-base-py"
  },
  "language_info": {
   "codemirror_mode": {
    "name": "ipython",
    "version": 3
   },
   "file_extension": ".py",
   "mimetype": "text/x-python",
   "name": "python",
   "nbconvert_exporter": "python",
   "pygments_lexer": "ipython3",
   "version": "3.12.2"
  }
 },
 "nbformat": 4,
 "nbformat_minor": 5
}
